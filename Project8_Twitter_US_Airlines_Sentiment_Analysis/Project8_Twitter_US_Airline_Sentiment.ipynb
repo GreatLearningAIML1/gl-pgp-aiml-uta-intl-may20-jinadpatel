{
 "cells": [
  {
   "cell_type": "markdown",
   "metadata": {},
   "source": [
    "# Project 8 - Twitter US Airline Sentiment\n",
    "\n",
    "# Author - Jinad Patel\n",
    "\n",
    "# Email - jinadpatel@gmail.com\n"
   ]
  },
  {
   "cell_type": "markdown",
   "metadata": {},
   "source": [
    "## Description: \n",
    "A sentiment analysis job about the problems of each major U.S. airline. Twitter data was scraped from February of 2015 and contributors were asked to first classify positive, negative, and neutral tweets, followed by categorizing negative reasons (such as \"late flight\" or \"rude service\").\n",
    "\n",
    "## Objective:\n",
    "To implement the techniques learnt as a part of the course."
   ]
  },
  {
   "cell_type": "markdown",
   "metadata": {},
   "source": [
    "## 1. Import the libraries, load dataset, print shape of data, data description. (5 Marks)"
   ]
  },
  {
   "cell_type": "code",
   "execution_count": 1,
   "metadata": {},
   "outputs": [],
   "source": [
    "import warnings \n",
    "warnings.filterwarnings('ignore')"
   ]
  },
  {
   "cell_type": "code",
   "execution_count": 2,
   "metadata": {},
   "outputs": [
    {
     "name": "stderr",
     "output_type": "stream",
     "text": [
      "[nltk_data] Downloading package stopwords to\n",
      "[nltk_data]     /Users/jinadpatel/nltk_data...\n",
      "[nltk_data]   Package stopwords is already up-to-date!\n"
     ]
    }
   ],
   "source": [
    "# Import Libraries\n",
    "import numpy as np\n",
    "import pandas as pd \n",
    "# Visualization library\n",
    "import seaborn as sns\n",
    "import matplotlib.pyplot as plt\n",
    "%matplotlib inline\n",
    "sns.set_color_codes(\"dark\")\n",
    "# Import language processing libraries\n",
    "from datetime import datetime\n",
    "from bs4 import BeautifulSoup\n",
    "import unicodedata, nltk\n",
    "import spacy\n",
    "import re\n",
    "from nltk.corpus import stopwords                 # Import stopwords.\n",
    "nltk.download('stopwords')\n",
    "from nltk.tokenize.toktok import ToktokTokenizer  # Import Tokenizer.\n",
    "\n",
    "# Import Tensorflow \n",
    "import tensorflow as tf\n",
    "from tensorflow.keras import optimizers, losses\n",
    "from tensorflow.keras.models import Sequential\n",
    "from tensorflow.keras.layers import InputLayer, Dense, Activation, BatchNormalization\n",
    "from tensorflow.keras.metrics import Precision, Recall\n",
    "\n",
    "# sklearn imports\n",
    "from sklearn.feature_extraction.text import CountVectorizer, TfidfVectorizer\n",
    "from sklearn.preprocessing import RobustScaler\n",
    "from sklearn.model_selection import train_test_split, cross_val_score\n",
    "from sklearn.ensemble import RandomForestClassifier\n",
    "\n"
   ]
  },
  {
   "cell_type": "code",
   "execution_count": 3,
   "metadata": {},
   "outputs": [
    {
     "data": {
      "text/html": [
       "<style>.container { width:98% !important; }</style>"
      ],
      "text/plain": [
       "<IPython.core.display.HTML object>"
      ]
     },
     "metadata": {},
     "output_type": "display_data"
    }
   ],
   "source": [
    "SEED=42\n",
    "FOLDS=10\n",
    "\n",
    "# Adjust pandas display and formatting settings\n",
    "\n",
    "# Remove scientific notations and display numbers with 2 decimal points instead\n",
    "pd.options.display.float_format = '{:,.2f}'.format        \n",
    "\n",
    "# Increase cell width\n",
    "from IPython.core.display import display, HTML\n",
    "display(HTML(\"<style>.container { width:98% !important; }</style>\"))\n",
    "\n",
    "# Update default style and size of charts\n",
    "plt.style.use('ggplot')\n",
    "plt.rcParams['figure.figsize'] = [20, 15]\n",
    "\n",
    "# Increase max number of rows and columns to display in pandas tables\n",
    "pd.set_option('display.max_columns', 500)           \n",
    "pd.set_option('display.max_rows', 500)"
   ]
  },
  {
   "cell_type": "code",
   "execution_count": 4,
   "metadata": {},
   "outputs": [
    {
     "data": {
      "text/html": [
       "<div>\n",
       "<style scoped>\n",
       "    .dataframe tbody tr th:only-of-type {\n",
       "        vertical-align: middle;\n",
       "    }\n",
       "\n",
       "    .dataframe tbody tr th {\n",
       "        vertical-align: top;\n",
       "    }\n",
       "\n",
       "    .dataframe thead th {\n",
       "        text-align: right;\n",
       "    }\n",
       "</style>\n",
       "<table border=\"1\" class=\"dataframe\">\n",
       "  <thead>\n",
       "    <tr style=\"text-align: right;\">\n",
       "      <th></th>\n",
       "      <th>tweet_id</th>\n",
       "      <th>airline_sentiment</th>\n",
       "      <th>airline_sentiment_confidence</th>\n",
       "      <th>negativereason</th>\n",
       "      <th>negativereason_confidence</th>\n",
       "      <th>airline</th>\n",
       "      <th>airline_sentiment_gold</th>\n",
       "      <th>name</th>\n",
       "      <th>negativereason_gold</th>\n",
       "      <th>retweet_count</th>\n",
       "      <th>text</th>\n",
       "      <th>tweet_coord</th>\n",
       "      <th>tweet_created</th>\n",
       "      <th>tweet_location</th>\n",
       "      <th>user_timezone</th>\n",
       "    </tr>\n",
       "  </thead>\n",
       "  <tbody>\n",
       "    <tr>\n",
       "      <th>0</th>\n",
       "      <td>570306133677760513</td>\n",
       "      <td>neutral</td>\n",
       "      <td>1.00</td>\n",
       "      <td>NaN</td>\n",
       "      <td>nan</td>\n",
       "      <td>Virgin America</td>\n",
       "      <td>NaN</td>\n",
       "      <td>cairdin</td>\n",
       "      <td>NaN</td>\n",
       "      <td>0</td>\n",
       "      <td>@VirginAmerica What @dhepburn said.</td>\n",
       "      <td>NaN</td>\n",
       "      <td>2015-02-24 11:35:52 -0800</td>\n",
       "      <td>NaN</td>\n",
       "      <td>Eastern Time (US &amp; Canada)</td>\n",
       "    </tr>\n",
       "    <tr>\n",
       "      <th>1</th>\n",
       "      <td>570301130888122368</td>\n",
       "      <td>positive</td>\n",
       "      <td>0.35</td>\n",
       "      <td>NaN</td>\n",
       "      <td>0.00</td>\n",
       "      <td>Virgin America</td>\n",
       "      <td>NaN</td>\n",
       "      <td>jnardino</td>\n",
       "      <td>NaN</td>\n",
       "      <td>0</td>\n",
       "      <td>@VirginAmerica plus you've added commercials t...</td>\n",
       "      <td>NaN</td>\n",
       "      <td>2015-02-24 11:15:59 -0800</td>\n",
       "      <td>NaN</td>\n",
       "      <td>Pacific Time (US &amp; Canada)</td>\n",
       "    </tr>\n",
       "    <tr>\n",
       "      <th>2</th>\n",
       "      <td>570301083672813571</td>\n",
       "      <td>neutral</td>\n",
       "      <td>0.68</td>\n",
       "      <td>NaN</td>\n",
       "      <td>nan</td>\n",
       "      <td>Virgin America</td>\n",
       "      <td>NaN</td>\n",
       "      <td>yvonnalynn</td>\n",
       "      <td>NaN</td>\n",
       "      <td>0</td>\n",
       "      <td>@VirginAmerica I didn't today... Must mean I n...</td>\n",
       "      <td>NaN</td>\n",
       "      <td>2015-02-24 11:15:48 -0800</td>\n",
       "      <td>Lets Play</td>\n",
       "      <td>Central Time (US &amp; Canada)</td>\n",
       "    </tr>\n",
       "    <tr>\n",
       "      <th>3</th>\n",
       "      <td>570301031407624196</td>\n",
       "      <td>negative</td>\n",
       "      <td>1.00</td>\n",
       "      <td>Bad Flight</td>\n",
       "      <td>0.70</td>\n",
       "      <td>Virgin America</td>\n",
       "      <td>NaN</td>\n",
       "      <td>jnardino</td>\n",
       "      <td>NaN</td>\n",
       "      <td>0</td>\n",
       "      <td>@VirginAmerica it's really aggressive to blast...</td>\n",
       "      <td>NaN</td>\n",
       "      <td>2015-02-24 11:15:36 -0800</td>\n",
       "      <td>NaN</td>\n",
       "      <td>Pacific Time (US &amp; Canada)</td>\n",
       "    </tr>\n",
       "    <tr>\n",
       "      <th>4</th>\n",
       "      <td>570300817074462722</td>\n",
       "      <td>negative</td>\n",
       "      <td>1.00</td>\n",
       "      <td>Can't Tell</td>\n",
       "      <td>1.00</td>\n",
       "      <td>Virgin America</td>\n",
       "      <td>NaN</td>\n",
       "      <td>jnardino</td>\n",
       "      <td>NaN</td>\n",
       "      <td>0</td>\n",
       "      <td>@VirginAmerica and it's a really big bad thing...</td>\n",
       "      <td>NaN</td>\n",
       "      <td>2015-02-24 11:14:45 -0800</td>\n",
       "      <td>NaN</td>\n",
       "      <td>Pacific Time (US &amp; Canada)</td>\n",
       "    </tr>\n",
       "  </tbody>\n",
       "</table>\n",
       "</div>"
      ],
      "text/plain": [
       "             tweet_id airline_sentiment  airline_sentiment_confidence  \\\n",
       "0  570306133677760513           neutral                          1.00   \n",
       "1  570301130888122368          positive                          0.35   \n",
       "2  570301083672813571           neutral                          0.68   \n",
       "3  570301031407624196          negative                          1.00   \n",
       "4  570300817074462722          negative                          1.00   \n",
       "\n",
       "  negativereason  negativereason_confidence         airline  \\\n",
       "0            NaN                        nan  Virgin America   \n",
       "1            NaN                       0.00  Virgin America   \n",
       "2            NaN                        nan  Virgin America   \n",
       "3     Bad Flight                       0.70  Virgin America   \n",
       "4     Can't Tell                       1.00  Virgin America   \n",
       "\n",
       "  airline_sentiment_gold        name negativereason_gold  retweet_count  \\\n",
       "0                    NaN     cairdin                 NaN              0   \n",
       "1                    NaN    jnardino                 NaN              0   \n",
       "2                    NaN  yvonnalynn                 NaN              0   \n",
       "3                    NaN    jnardino                 NaN              0   \n",
       "4                    NaN    jnardino                 NaN              0   \n",
       "\n",
       "                                                text tweet_coord  \\\n",
       "0                @VirginAmerica What @dhepburn said.         NaN   \n",
       "1  @VirginAmerica plus you've added commercials t...         NaN   \n",
       "2  @VirginAmerica I didn't today... Must mean I n...         NaN   \n",
       "3  @VirginAmerica it's really aggressive to blast...         NaN   \n",
       "4  @VirginAmerica and it's a really big bad thing...         NaN   \n",
       "\n",
       "               tweet_created tweet_location               user_timezone  \n",
       "0  2015-02-24 11:35:52 -0800            NaN  Eastern Time (US & Canada)  \n",
       "1  2015-02-24 11:15:59 -0800            NaN  Pacific Time (US & Canada)  \n",
       "2  2015-02-24 11:15:48 -0800      Lets Play  Central Time (US & Canada)  \n",
       "3  2015-02-24 11:15:36 -0800            NaN  Pacific Time (US & Canada)  \n",
       "4  2015-02-24 11:14:45 -0800            NaN  Pacific Time (US & Canada)  "
      ]
     },
     "execution_count": 4,
     "metadata": {},
     "output_type": "execute_result"
    }
   ],
   "source": [
    "# Load the data set and review \n",
    "df = pd.read_csv('Tweets.csv')\n",
    "df.head()"
   ]
  },
  {
   "cell_type": "code",
   "execution_count": 5,
   "metadata": {},
   "outputs": [
    {
     "data": {
      "text/plain": [
       "(14640, 15)"
      ]
     },
     "execution_count": 5,
     "metadata": {},
     "output_type": "execute_result"
    }
   ],
   "source": [
    "# Shape of the data\n",
    "df.shape"
   ]
  },
  {
   "cell_type": "markdown",
   "metadata": {},
   "source": [
    "### Observations:\n",
    "* We have 14640 data points and 15 data columns as noted above."
   ]
  },
  {
   "cell_type": "code",
   "execution_count": 6,
   "metadata": {},
   "outputs": [
    {
     "name": "stdout",
     "output_type": "stream",
     "text": [
      "<class 'pandas.core.frame.DataFrame'>\n",
      "RangeIndex: 14640 entries, 0 to 14639\n",
      "Data columns (total 15 columns):\n",
      " #   Column                        Non-Null Count  Dtype  \n",
      "---  ------                        --------------  -----  \n",
      " 0   tweet_id                      14640 non-null  int64  \n",
      " 1   airline_sentiment             14640 non-null  object \n",
      " 2   airline_sentiment_confidence  14640 non-null  float64\n",
      " 3   negativereason                9178 non-null   object \n",
      " 4   negativereason_confidence     10522 non-null  float64\n",
      " 5   airline                       14640 non-null  object \n",
      " 6   airline_sentiment_gold        40 non-null     object \n",
      " 7   name                          14640 non-null  object \n",
      " 8   negativereason_gold           32 non-null     object \n",
      " 9   retweet_count                 14640 non-null  int64  \n",
      " 10  text                          14640 non-null  object \n",
      " 11  tweet_coord                   1019 non-null   object \n",
      " 12  tweet_created                 14640 non-null  object \n",
      " 13  tweet_location                9907 non-null   object \n",
      " 14  user_timezone                 9820 non-null   object \n",
      "dtypes: float64(2), int64(2), object(11)\n",
      "memory usage: 1.7+ MB\n"
     ]
    }
   ],
   "source": [
    "# Check the info\n",
    "df.info()"
   ]
  },
  {
   "cell_type": "markdown",
   "metadata": {},
   "source": [
    "### Observations:\n",
    "* As seen above, we have mixture of data types. Most of the data are categorical (around 11 columns, we would be dropping most of it later) and some of it are integer (2 data columns) and float (2 data columns) as data type.\n",
    "* We would definitely need some data processing."
   ]
  },
  {
   "cell_type": "code",
   "execution_count": 7,
   "metadata": {},
   "outputs": [
    {
     "name": "stdout",
     "output_type": "stream",
     "text": [
      "Number of duplicate records in the dataset: 36\n"
     ]
    }
   ],
   "source": [
    "#  Check for any duplicates\n",
    "print(\"Number of duplicate records in the dataset: {0}\".format(df.duplicated().sum()))"
   ]
  },
  {
   "cell_type": "markdown",
   "metadata": {},
   "source": [
    "## 2. Understand of data-columns: (5 Marks)\n",
    "- Drop all other columns except “text” and “airline_sentiment”.\n",
    "- Check the shape of data.\n",
    "- Print first 5 rows of data."
   ]
  },
  {
   "cell_type": "code",
   "execution_count": 8,
   "metadata": {},
   "outputs": [
    {
     "data": {
      "text/html": [
       "<div>\n",
       "<style scoped>\n",
       "    .dataframe tbody tr th:only-of-type {\n",
       "        vertical-align: middle;\n",
       "    }\n",
       "\n",
       "    .dataframe tbody tr th {\n",
       "        vertical-align: top;\n",
       "    }\n",
       "\n",
       "    .dataframe thead th {\n",
       "        text-align: right;\n",
       "    }\n",
       "</style>\n",
       "<table border=\"1\" class=\"dataframe\">\n",
       "  <thead>\n",
       "    <tr style=\"text-align: right;\">\n",
       "      <th></th>\n",
       "      <th>text</th>\n",
       "      <th>airline_sentiment</th>\n",
       "    </tr>\n",
       "  </thead>\n",
       "  <tbody>\n",
       "    <tr>\n",
       "      <th>0</th>\n",
       "      <td>@VirginAmerica What @dhepburn said.</td>\n",
       "      <td>neutral</td>\n",
       "    </tr>\n",
       "    <tr>\n",
       "      <th>1</th>\n",
       "      <td>@VirginAmerica plus you've added commercials t...</td>\n",
       "      <td>positive</td>\n",
       "    </tr>\n",
       "    <tr>\n",
       "      <th>2</th>\n",
       "      <td>@VirginAmerica I didn't today... Must mean I n...</td>\n",
       "      <td>neutral</td>\n",
       "    </tr>\n",
       "    <tr>\n",
       "      <th>3</th>\n",
       "      <td>@VirginAmerica it's really aggressive to blast...</td>\n",
       "      <td>negative</td>\n",
       "    </tr>\n",
       "    <tr>\n",
       "      <th>4</th>\n",
       "      <td>@VirginAmerica and it's a really big bad thing...</td>\n",
       "      <td>negative</td>\n",
       "    </tr>\n",
       "  </tbody>\n",
       "</table>\n",
       "</div>"
      ],
      "text/plain": [
       "                                                text airline_sentiment\n",
       "0                @VirginAmerica What @dhepburn said.           neutral\n",
       "1  @VirginAmerica plus you've added commercials t...          positive\n",
       "2  @VirginAmerica I didn't today... Must mean I n...           neutral\n",
       "3  @VirginAmerica it's really aggressive to blast...          negative\n",
       "4  @VirginAmerica and it's a really big bad thing...          negative"
      ]
     },
     "execution_count": 8,
     "metadata": {},
     "output_type": "execute_result"
    }
   ],
   "source": [
    "# Drop unwanted data columns\n",
    "df_filtered = df.loc[:,['text', 'airline_sentiment']]\n",
    "# Print first 5 rows\n",
    "df_filtered.head()"
   ]
  },
  {
   "cell_type": "code",
   "execution_count": 9,
   "metadata": {},
   "outputs": [
    {
     "data": {
      "text/plain": [
       "(14640, 2)"
      ]
     },
     "execution_count": 9,
     "metadata": {},
     "output_type": "execute_result"
    }
   ],
   "source": [
    "# Check the shape of the filtered data set\n",
    "df_filtered.shape"
   ]
  },
  {
   "cell_type": "markdown",
   "metadata": {},
   "source": [
    "### Observations:\n",
    "* As seen above, filtered data frame with only text and airline sentiment values are required for the analysis.\n",
    "* We have total 14640 data records and 2 columns (text and airline sentiment value)\n",
    "* 'text' column represents the twitted text that can be used for classification\n",
    "* 'airline_sentiment' column represents the sentiment categories, namely negative, neutral and positive."
   ]
  },
  {
   "cell_type": "markdown",
   "metadata": {},
   "source": [
    "## 3. Text pre-processing: Data preparation. (20 Marks)\n",
    "- Html tag removal.\n",
    "- Tokenization.\n",
    "- Remove the numbers.\n",
    "- Removal of Special Characters and Punctuations.\n",
    "- Conversion to lowercase.\n",
    "- Lemmatize or stemming.\n",
    "- Join the words in the list to convert back to text string in the dataframe. (So that each row contains the data in text format.)\n",
    "- Print first 5 rows of data after pre-processing."
   ]
  },
  {
   "cell_type": "code",
   "execution_count": 10,
   "metadata": {},
   "outputs": [
    {
     "name": "stdout",
     "output_type": "stream",
     "text": [
      "Number of duplicated records available in filtered dataset: 188\n",
      "Shape of filtered data set after dropping duplicates: (14452, 2)\n"
     ]
    }
   ],
   "source": [
    "# Before we fit the mode and apply text classification stuff, we would have to preprocess the tweets and clean it up. The above steps clearly states the steps.\n",
    "\n",
    "# As noted above, we found few duplicates in the original data set. \n",
    "print(\"Number of duplicated records available in filtered dataset: {}\".format(df_filtered.duplicated().sum()))\n",
    "\n",
    "# Dropping 188 duplicate records\n",
    "df_filtered.drop_duplicates(inplace=True)\n",
    "\n",
    "print(\"Shape of filtered data set after dropping duplicates: {}\".format(df_filtered.shape))\n"
   ]
  },
  {
   "cell_type": "code",
   "execution_count": 11,
   "metadata": {},
   "outputs": [],
   "source": [
    "# After dropping duplicate records, let's clean up dataset. Prepare stop words and lemmatization dictionary\n",
    "stop_words_en = set(stopwords.words('english'))\n",
    "spacy_en = spacy.load('en_core_web_sm', parser=True, tag=True, entity=True)\n",
    "\n",
    "# Let's define a function that can do all the above steps and give us the cleaned review text.\n",
    "\n",
    "def review_sanitizer(review):\n",
    "    # Html tag removal\n",
    "    review = BeautifulSoup(review).get_text()\n",
    "    \n",
    "    # Remove Accented ones\n",
    "    review = unicodedata.normalize('NFKD',review).encode('ascii','ignore').decode('utf-8','ignore')\n",
    "    \n",
    "    # Remove any URLs, if there\n",
    "    review = re.sub(r'((http|https)\\:\\/\\/)?[a-zA-Z0-9\\.\\/\\?\\:@\\-_=#]+\\.([a-zA-Z]){2,6}([a-zA-Z0-9\\.\\&\\/\\?\\:@\\-_=#])*',' ', review, flags=re.MULTILINE)\n",
    "    \n",
    "    # Remove special characters, punctuations and numbers\n",
    "    review = re.sub(\"[^a-zA-Z]\",\" \", review)\n",
    "    \n",
    "    # Tokenize, convert to lower case and return the words back\n",
    "    words = [word.lower() for word in ToktokTokenizer().tokenize(review)]\n",
    "    \n",
    "    # Treat this with removal of stop words\n",
    "    words_needed = [word for word in words if not word in stop_words_en]\n",
    "    # Make the complete sentence with 'join'\n",
    "    words_needed = \" \".join(words_needed)\n",
    "    #Lemmatize the sentence\n",
    "    text_twitted = spacy_en(words_needed)\n",
    "    lemma_text = ' '.join([word.lemma_ if word.lemma_ != '-PRON-' else word.text for word in text_twitted])\n",
    "    return lemma_text\n",
    "    "
   ]
  },
  {
   "cell_type": "code",
   "execution_count": 12,
   "metadata": {},
   "outputs": [
    {
     "name": "stdout",
     "output_type": "stream",
     "text": [
      "Raw review: @VirginAmerica What @dhepburn said.\n",
      "Processed review: virginamerica dhepburn say\n",
      " \n",
      " \n",
      "Raw review: @VirginAmerica plus you've added commercials to the experience... tacky.\n",
      "Processed review: virginamerica plus add commercial experience tacky\n",
      " \n",
      " \n",
      "Raw review: @VirginAmerica I didn't today... Must mean I need to take another trip!\n",
      "Processed review: virginamerica today must mean need take another trip\n",
      " \n",
      " \n",
      "Raw review: @VirginAmerica it's really aggressive to blast obnoxious \"entertainment\" in your guests' faces &amp; they have little recourse\n",
      "Processed review: virginamerica really aggressive blast obnoxious entertainment guest face little recourse\n",
      " \n",
      " \n",
      "Raw review: @VirginAmerica and it's a really big bad thing about it\n",
      "Processed review: virginamerica really big bad thing\n",
      " \n",
      " \n",
      "Raw review: @VirginAmerica seriously would pay $30 a flight for seats that didn't have this playing.\n",
      "it's really the only bad thing about flying VA\n",
      "Processed review: virginamerica seriously would pay flight seat play really bad thing fly va\n",
      " \n",
      " \n"
     ]
    }
   ],
   "source": [
    "# To make sure above method is working as expected, let's test it. print first five reviews as requested.\n",
    "for idx in range (0,6):\n",
    "    raw_review = df_filtered['text'][idx]\n",
    "    processed_review = review_sanitizer(raw_review)\n",
    "    print(\"Raw review: {}\".format(raw_review))\n",
    "    print(\"Processed review: {}\".format(processed_review))\n",
    "    print(\" \")\n",
    "    print(\" \")"
   ]
  },
  {
   "cell_type": "code",
   "execution_count": 13,
   "metadata": {},
   "outputs": [
    {
     "name": "stdout",
     "output_type": "stream",
     "text": [
      " \n",
      "Shape:                                           processed_text  negative  neutral  \\\n",
      "0                             virginamerica dhepburn say         0        1   \n",
      "1      virginamerica plus add commercial experience t...         0        0   \n",
      "2      virginamerica today must mean need take anothe...         0        1   \n",
      "3      virginamerica really aggressive blast obnoxiou...         1        0   \n",
      "4                     virginamerica really big bad thing         1        0   \n",
      "...                                                  ...       ...      ...   \n",
      "14635     americanair thank get different flight chicago         0        0   \n",
      "14636  americanair leave minute late flight warning c...         1        0   \n",
      "14637  americanair please bring american airline blac...         0        1   \n",
      "14638  americanair money change flight answer phone s...         1        0   \n",
      "14639  americanair ppl nee know many seat next flight...         0        1   \n",
      "\n",
      "       positive  \n",
      "0             0  \n",
      "1             1  \n",
      "2             0  \n",
      "3             0  \n",
      "4             0  \n",
      "...         ...  \n",
      "14635         1  \n",
      "14636         0  \n",
      "14637         0  \n",
      "14638         0  \n",
      "14639         0  \n",
      "\n",
      "[14452 rows x 4 columns]\n"
     ]
    }
   ],
   "source": [
    "# Let's update the whole data set with the procedure defined above\n",
    "processed_reviews = [review_sanitizer(review) for review in df_filtered['text'].to_list()]\n",
    "df_filtered['processed_text'] = processed_reviews\n",
    "# generate onehot encoding for the sentiment analysis values\n",
    "df_final = pd.get_dummies(df_filtered, columns=['airline_sentiment'], prefix='', prefix_sep='')\n",
    "# drop unwanted columns\n",
    "df_final = df_final.drop(columns=['text'])\n",
    "df_final.head()\n",
    "print(\" \")\n",
    "print(\"Shape: {}\".format(df_final))"
   ]
  },
  {
   "cell_type": "markdown",
   "metadata": {},
   "source": [
    "## 4. Vectorization: (10 Marks)\n",
    "- Use CountVectorizer.\n",
    "- Use TfidfVectorizer."
   ]
  },
  {
   "cell_type": "markdown",
   "metadata": {},
   "source": [
    "### Count Vectorizer:"
   ]
  },
  {
   "cell_type": "code",
   "execution_count": 14,
   "metadata": {},
   "outputs": [
    {
     "name": "stdout",
     "output_type": "stream",
     "text": [
      "Number of reviews: 14452\n",
      "Number of features: 10022\n"
     ]
    }
   ],
   "source": [
    "# Use countvectorizer on the final dataset.\n",
    "vctzr = CountVectorizer(analyzer = 'word', tokenizer = None, preprocessor=None, stop_words=None)\n",
    "features = vctzr.fit_transform(processed_reviews).toarray()\n",
    "print(\"Number of reviews: {0}\".format(features.shape[0]))\n",
    "print(\"Number of features: {0}\".format(features.shape[1]))"
   ]
  },
  {
   "cell_type": "code",
   "execution_count": 15,
   "metadata": {},
   "outputs": [
    {
     "name": "stdout",
     "output_type": "stream",
     "text": [
      "('flight', 4672) ('united', 3252) ('usairway', 3038) ('americanair', 2815) ('southwestair', 2450)\n"
     ]
    }
   ],
   "source": [
    "# Prepare the features for the model training. Let's find the number of times features are getting repeated.\n",
    "names = vctzr.get_feature_names()\n",
    "f = np.sum(features, axis=0)\n",
    "names_f_sorted = sorted([(x,y) for x, y in zip(names,f)], key=lambda x: x[1], reverse=True)\n",
    "print(*names_f_sorted[0:5])"
   ]
  },
  {
   "cell_type": "code",
   "execution_count": 16,
   "metadata": {},
   "outputs": [
    {
     "name": "stdout",
     "output_type": "stream",
     "text": [
      "X Train shape: (11561, 10022)\n",
      "y Train shape: (11561, 3)\n",
      " \n",
      "X test shape: (2891, 10022)\n",
      "y test shape: (2891, 3)\n"
     ]
    }
   ],
   "source": [
    "# Split the data\n",
    "X = features\n",
    "y = df_final.iloc[:,1:] # This will be the sentiment analysis outcome, for e.g. neutral, negative, positive.\n",
    "y = np.array(y)\n",
    "\n",
    "X_train, X_test, y_train, y_test = train_test_split(X, y, test_size=0.20, random_state=SEED, stratify=y)\n",
    "\n",
    "# Check the shapes for Train/Test data\n",
    "print(\"X Train shape: {}\".format(X_train.shape))\n",
    "print(\"y Train shape: {}\".format(y_train.shape))\n",
    "print(\" \")\n",
    "print(\"X test shape: {}\".format(X_test.shape))\n",
    "print(\"y test shape: {}\".format(y_test.shape))\n"
   ]
  },
  {
   "cell_type": "markdown",
   "metadata": {},
   "source": [
    "## 5. Fit and evaluate model using both type of vectorization. (6+6 Marks)\n",
    "### RandomForest classifier with CountVectorizer"
   ]
  },
  {
   "cell_type": "code",
   "execution_count": 17,
   "metadata": {},
   "outputs": [
    {
     "name": "stdout",
     "output_type": "stream",
     "text": [
      "RandomForestClassifer with Accuracy: 68.97306493991299%\n"
     ]
    }
   ],
   "source": [
    "# As noted above, I will be using RandomForest as the classfier and fit the model on it. This approach is based off CountVectorizer.\n",
    "rndm_classifier = RandomForestClassifier(n_jobs=-1, n_estimators=100, verbose=0)\n",
    "results = np.mean(cross_val_score(rndm_classifier, X, y, cv=10))\n",
    "print(\"RandomForestClassifer with Accuracy: {}%\".format(results*100.0))"
   ]
  },
  {
   "cell_type": "code",
   "execution_count": 18,
   "metadata": {},
   "outputs": [
    {
     "name": "stdout",
     "output_type": "stream",
     "text": [
      "WARNING:tensorflow:From /usr/local/anaconda3/lib/python3.7/site-packages/tensorflow/python/ops/init_ops.py:1251: calling VarianceScaling.__init__ (from tensorflow.python.ops.init_ops) with dtype is deprecated and will be removed in a future version.\n",
      "Instructions for updating:\n",
      "Call initializer instance with the dtype argument instead of passing it to the constructor\n",
      "Model: \"sequential\"\n",
      "_________________________________________________________________\n",
      "Layer (type)                 Output Shape              Param #   \n",
      "=================================================================\n",
      "dense (Dense)                (None, 64)                641472    \n",
      "_________________________________________________________________\n",
      "batch_normalization (BatchNo (None, 64)                256       \n",
      "_________________________________________________________________\n",
      "dense_1 (Dense)              (None, 32)                2080      \n",
      "_________________________________________________________________\n",
      "batch_normalization_1 (Batch (None, 32)                128       \n",
      "_________________________________________________________________\n",
      "dense_2 (Dense)              (None, 16)                528       \n",
      "_________________________________________________________________\n",
      "batch_normalization_2 (Batch (None, 16)                64        \n",
      "_________________________________________________________________\n",
      "dense_3 (Dense)              (None, 3)                 51        \n",
      "=================================================================\n",
      "Total params: 644,579\n",
      "Trainable params: 644,355\n",
      "Non-trainable params: 224\n",
      "_________________________________________________________________\n"
     ]
    }
   ],
   "source": [
    "# Since it's hard to dictate the performance based on cross val score from above, let's try one more model.\n",
    "# I will be using neural network and see how better I can differentiate two models.\n",
    "\n",
    "model = Sequential()\n",
    "model.add(InputLayer(input_shape=(10022,)))\n",
    "model.add(Dense(64, activation='relu'))\n",
    "model.add(BatchNormalization())\n",
    "model.add(Dense(32, activation='relu'))\n",
    "model.add(BatchNormalization())\n",
    "model.add(Dense(16, activation='relu'))\n",
    "model.add(BatchNormalization())\n",
    "model.add(Dense(3, activation='softmax'))\n",
    "\n",
    "opt = optimizers.Adam(lr=1e-5)\n",
    "# Compile model\n",
    "\n",
    "model.compile(loss='categorical_crossentropy',optimizer=opt,metrics=['accuracy'])\n",
    "\n",
    "# Print summary\n",
    "model.summary()"
   ]
  },
  {
   "cell_type": "code",
   "execution_count": 19,
   "metadata": {},
   "outputs": [
    {
     "name": "stdout",
     "output_type": "stream",
     "text": [
      "Train on 9248 samples, validate on 2313 samples\n",
      "Epoch 1/50\n",
      "9248/9248 [==============================] - 10s 1ms/sample - loss: 1.5374 - acc: 0.3303 - val_loss: 1.6944 - val_acc: 0.3731\n",
      "Epoch 2/50\n",
      "9248/9248 [==============================] - 9s 980us/sample - loss: 1.3746 - acc: 0.3732 - val_loss: 1.5126 - val_acc: 0.4116\n",
      "Epoch 3/50\n",
      "9248/9248 [==============================] - 9s 974us/sample - loss: 1.2645 - acc: 0.4151 - val_loss: 1.3438 - val_acc: 0.4479\n",
      "Epoch 4/50\n",
      "9248/9248 [==============================] - 9s 938us/sample - loss: 1.1764 - acc: 0.4534 - val_loss: 1.2466 - val_acc: 0.4769\n",
      "Epoch 5/50\n",
      "9248/9248 [==============================] - 9s 936us/sample - loss: 1.1112 - acc: 0.4815 - val_loss: 1.1369 - val_acc: 0.5110\n",
      "Epoch 6/50\n",
      "9248/9248 [==============================] - 9s 920us/sample - loss: 1.0466 - acc: 0.5169 - val_loss: 1.0822 - val_acc: 0.5387\n",
      "Epoch 7/50\n",
      "9248/9248 [==============================] - 10s 1ms/sample - loss: 0.9976 - acc: 0.5408 - val_loss: 1.0309 - val_acc: 0.5664\n",
      "Epoch 8/50\n",
      "9248/9248 [==============================] - 9s 1ms/sample - loss: 0.9570 - acc: 0.5686 - val_loss: 0.9839 - val_acc: 0.5854\n",
      "Epoch 9/50\n",
      "9248/9248 [==============================] - 9s 983us/sample - loss: 0.9158 - acc: 0.5913 - val_loss: 0.9397 - val_acc: 0.6109\n",
      "Epoch 10/50\n",
      "9248/9248 [==============================] - 9s 945us/sample - loss: 0.8907 - acc: 0.5979 - val_loss: 0.9457 - val_acc: 0.6057\n",
      "Epoch 11/50\n",
      "9248/9248 [==============================] - 9s 1ms/sample - loss: 0.8619 - acc: 0.6233 - val_loss: 0.8814 - val_acc: 0.6351\n",
      "Epoch 12/50\n",
      "9248/9248 [==============================] - 9s 951us/sample - loss: 0.8345 - acc: 0.6372 - val_loss: 0.8654 - val_acc: 0.6386\n",
      "Epoch 13/50\n",
      "9248/9248 [==============================] - 9s 931us/sample - loss: 0.8108 - acc: 0.6539 - val_loss: 0.8275 - val_acc: 0.6576\n",
      "Epoch 14/50\n",
      "9248/9248 [==============================] - 9s 926us/sample - loss: 0.7891 - acc: 0.6612 - val_loss: 0.8262 - val_acc: 0.6628\n",
      "Epoch 15/50\n",
      "9248/9248 [==============================] - 9s 926us/sample - loss: 0.7726 - acc: 0.6696 - val_loss: 0.7975 - val_acc: 0.6770\n",
      "Epoch 16/50\n",
      "9248/9248 [==============================] - 9s 923us/sample - loss: 0.7574 - acc: 0.6816 - val_loss: 0.7881 - val_acc: 0.6822\n",
      "Epoch 17/50\n",
      "9248/9248 [==============================] - 9s 929us/sample - loss: 0.7385 - acc: 0.6890 - val_loss: 0.7786 - val_acc: 0.6861\n",
      "Epoch 18/50\n",
      "9248/9248 [==============================] - 9s 923us/sample - loss: 0.7162 - acc: 0.7033 - val_loss: 0.7721 - val_acc: 0.6900\n",
      "Epoch 19/50\n",
      "9248/9248 [==============================] - 9s 930us/sample - loss: 0.7168 - acc: 0.7029 - val_loss: 0.7435 - val_acc: 0.7038\n",
      "Epoch 20/50\n",
      "9248/9248 [==============================] - 9s 927us/sample - loss: 0.6913 - acc: 0.7125 - val_loss: 0.7533 - val_acc: 0.6943\n",
      "Epoch 21/50\n",
      "9248/9248 [==============================] - 9s 925us/sample - loss: 0.6834 - acc: 0.7145 - val_loss: 0.7383 - val_acc: 0.7056\n",
      "Epoch 22/50\n",
      "9248/9248 [==============================] - 11s 1ms/sample - loss: 0.6821 - acc: 0.7206 - val_loss: 0.7299 - val_acc: 0.7073\n",
      "Epoch 23/50\n",
      "9248/9248 [==============================] - 10s 1ms/sample - loss: 0.6597 - acc: 0.7280 - val_loss: 0.7423 - val_acc: 0.7004\n",
      "Epoch 24/50\n",
      "9248/9248 [==============================] - 9s 934us/sample - loss: 0.6584 - acc: 0.7314 - val_loss: 0.7165 - val_acc: 0.7099\n",
      "Epoch 25/50\n",
      "9248/9248 [==============================] - 8s 912us/sample - loss: 0.6419 - acc: 0.7370 - val_loss: 0.7046 - val_acc: 0.7181\n",
      "Epoch 26/50\n",
      "9248/9248 [==============================] - 8s 901us/sample - loss: 0.6228 - acc: 0.7430 - val_loss: 0.7068 - val_acc: 0.7160\n",
      "Epoch 27/50\n",
      "9248/9248 [==============================] - 8s 906us/sample - loss: 0.6127 - acc: 0.7497 - val_loss: 0.6999 - val_acc: 0.7233\n",
      "Epoch 28/50\n",
      "9248/9248 [==============================] - 8s 902us/sample - loss: 0.6160 - acc: 0.7481 - val_loss: 0.7038 - val_acc: 0.7177\n",
      "Epoch 29/50\n",
      "9248/9248 [==============================] - 8s 867us/sample - loss: 0.6019 - acc: 0.7604 - val_loss: 0.7021 - val_acc: 0.7203\n",
      "Epoch 30/50\n",
      "9248/9248 [==============================] - 8s 832us/sample - loss: 0.5896 - acc: 0.7665 - val_loss: 0.6883 - val_acc: 0.7216\n",
      "Epoch 31/50\n",
      "9248/9248 [==============================] - 8s 913us/sample - loss: 0.5820 - acc: 0.7672 - val_loss: 0.6915 - val_acc: 0.7289\n",
      "Epoch 32/50\n",
      "9248/9248 [==============================] - 8s 894us/sample - loss: 0.5806 - acc: 0.7645 - val_loss: 0.6921 - val_acc: 0.7259\n",
      "Epoch 33/50\n",
      "9248/9248 [==============================] - 9s 930us/sample - loss: 0.5795 - acc: 0.7698 - val_loss: 0.6914 - val_acc: 0.7246\n",
      "Epoch 34/50\n",
      "9248/9248 [==============================] - 8s 855us/sample - loss: 0.5545 - acc: 0.7845 - val_loss: 0.6772 - val_acc: 0.7294\n",
      "Epoch 35/50\n",
      "9248/9248 [==============================] - 8s 843us/sample - loss: 0.5518 - acc: 0.7878 - val_loss: 0.6825 - val_acc: 0.7255\n",
      "Epoch 36/50\n",
      "9248/9248 [==============================] - 8s 914us/sample - loss: 0.5362 - acc: 0.7880 - val_loss: 0.6858 - val_acc: 0.7250\n",
      "Epoch 37/50\n",
      "9248/9248 [==============================] - 9s 936us/sample - loss: 0.5274 - acc: 0.7947 - val_loss: 0.6785 - val_acc: 0.7268\n",
      "Epoch 38/50\n",
      "9248/9248 [==============================] - 8s 902us/sample - loss: 0.5421 - acc: 0.7871 - val_loss: 0.6893 - val_acc: 0.7268\n",
      "Epoch 39/50\n",
      "9248/9248 [==============================] - 9s 921us/sample - loss: 0.5236 - acc: 0.7984 - val_loss: 0.6932 - val_acc: 0.7302\n",
      "Epoch 40/50\n",
      "9248/9248 [==============================] - 8s 912us/sample - loss: 0.5172 - acc: 0.8026 - val_loss: 0.6804 - val_acc: 0.7302\n",
      "Epoch 41/50\n",
      "9248/9248 [==============================] - 8s 883us/sample - loss: 0.5126 - acc: 0.8013 - val_loss: 0.6886 - val_acc: 0.7315\n",
      "Epoch 42/50\n",
      "9248/9248 [==============================] - 9s 925us/sample - loss: 0.5076 - acc: 0.8075 - val_loss: 0.6880 - val_acc: 0.7354\n",
      "Epoch 43/50\n",
      "9248/9248 [==============================] - 9s 921us/sample - loss: 0.4967 - acc: 0.8077 - val_loss: 0.6881 - val_acc: 0.7363\n",
      "Epoch 44/50\n",
      "9248/9248 [==============================] - 9s 929us/sample - loss: 0.4812 - acc: 0.8190 - val_loss: 0.6849 - val_acc: 0.7367\n",
      "Epoch 45/50\n",
      "9248/9248 [==============================] - 8s 910us/sample - loss: 0.4740 - acc: 0.8168 - val_loss: 0.6858 - val_acc: 0.7402\n",
      "Epoch 46/50\n",
      "9248/9248 [==============================] - 9s 969us/sample - loss: 0.4743 - acc: 0.8169 - val_loss: 0.6907 - val_acc: 0.7345\n",
      "Epoch 47/50\n",
      "9248/9248 [==============================] - 8s 918us/sample - loss: 0.4611 - acc: 0.8237 - val_loss: 0.6818 - val_acc: 0.7389\n",
      "Epoch 48/50\n",
      "9248/9248 [==============================] - 9s 950us/sample - loss: 0.4564 - acc: 0.8281 - val_loss: 0.6892 - val_acc: 0.7354\n",
      "Epoch 49/50\n",
      "9248/9248 [==============================] - 9s 927us/sample - loss: 0.4591 - acc: 0.8309 - val_loss: 0.6900 - val_acc: 0.7384\n",
      "Epoch 50/50\n",
      "9248/9248 [==============================] - 8s 848us/sample - loss: 0.4546 - acc: 0.8290 - val_loss: 0.6974 - val_acc: 0.7363\n"
     ]
    }
   ],
   "source": [
    "# Below params are chose very carefully. Creating validation split from train data, 80-20.\n",
    "hist = model.fit(X_train, y_train, epochs=50, validation_split=0.2,batch_size=4,verbose=True)"
   ]
  },
  {
   "cell_type": "code",
   "execution_count": 20,
   "metadata": {},
   "outputs": [
    {
     "data": {
      "text/plain": [
       "<matplotlib.legend.Legend at 0x7f9ae153e750>"
      ]
     },
     "execution_count": 20,
     "metadata": {},
     "output_type": "execute_result"
    },
    {
     "data": {
      "image/png": "[encoded data removed]",
      "text/plain": [
       "<Figure size 1440x1080 with 1 Axes>"
      ]
     },
     "metadata": {},
     "output_type": "display_data"
    }
   ],
   "source": [
    "# Plotting for visuals\n",
    "df_hist = pd.DataFrame(hist.history)\n",
    "plt.plot(df_hist['loss'])\n",
    "plt.plot(df_hist['val_loss'])\n",
    "plt.legend(('Training Loss','Validation Loss'), loc=0)"
   ]
  },
  {
   "cell_type": "code",
   "execution_count": 21,
   "metadata": {},
   "outputs": [
    {
     "data": {
      "text/plain": [
       "{'Train Accuracy (Count Vectorizer)': 89.274,\n",
       " 'Test Accuracy (Count Vectorizer)': 73.366}"
      ]
     },
     "execution_count": 21,
     "metadata": {},
     "output_type": "execute_result"
    }
   ],
   "source": [
    "# Accuracies\n",
    "\n",
    "y_pred = model.predict(X_test)\n",
    "perf = {}\n",
    "result=model.evaluate(X_train,y_train, batch_size=4,verbose=False)\n",
    "perf['Train Accuracy (Count Vectorizer)']=round(result[1]*100,3)\n",
    "result=model.evaluate(X_test,y_test, batch_size=4,verbose=False)\n",
    "perf['Test Accuracy (Count Vectorizer)']=round(result[1]*100,3)\n",
    "\n",
    "perf"
   ]
  },
  {
   "cell_type": "markdown",
   "metadata": {},
   "source": [
    "### TF-IDF Vectorizer"
   ]
  },
  {
   "cell_type": "code",
   "execution_count": 22,
   "metadata": {},
   "outputs": [
    {
     "name": "stdout",
     "output_type": "stream",
     "text": [
      "Number of reviews: 14452\n",
      "Number of features: 10022\n"
     ]
    }
   ],
   "source": [
    "# Let's use TF-IDF Vectorizer  and see the results with model fit.\n",
    "vctzr2 = TfidfVectorizer(analyzer=\"word\", tokenizer=None, preprocessor=None, stop_words=None)\n",
    "features2= vctzr2.fit_transform(processed_reviews).toarray()\n",
    "print(\"Number of reviews: {0}\".format(features2.shape[0]))\n",
    "print(\"Number of features: {0}\".format(features2.shape[1]))"
   ]
  },
  {
   "cell_type": "code",
   "execution_count": 23,
   "metadata": {},
   "outputs": [
    {
     "name": "stdout",
     "output_type": "stream",
     "text": [
      "X Train shape: (11561, 10022)\n",
      "y Train shape: (11561, 3)\n",
      " \n",
      "X test shape: (2891, 10022)\n",
      "y test shape: (2891, 3)\n"
     ]
    }
   ],
   "source": [
    "# Prepare the data for training\n",
    "X = features\n",
    "y = df_final.iloc[:,1:]\n",
    "y=np.array(y)\n",
    "\n",
    "\n",
    "X_train, X_test, y_train, y_test = train_test_split(X,y,test_size=0.20,random_state=SEED, stratify=y)\n",
    "\n",
    "# Check the shapes for Train/Test data\n",
    "print(\"X Train shape: {}\".format(X_train.shape))\n",
    "print(\"y Train shape: {}\".format(y_train.shape))\n",
    "print(\" \")\n",
    "print(\"X test shape: {}\".format(X_test.shape))\n",
    "print(\"y test shape: {}\".format(y_test.shape))\n"
   ]
  },
  {
   "cell_type": "markdown",
   "metadata": {},
   "source": [
    "### RandomForestClassifier with TF-IDF Vectorizer"
   ]
  },
  {
   "cell_type": "code",
   "execution_count": 24,
   "metadata": {},
   "outputs": [
    {
     "name": "stdout",
     "output_type": "stream",
     "text": [
      "RandomForestClassifer with Accuracy: 68.86938314500807%\n"
     ]
    }
   ],
   "source": [
    "rndm_classifier2 = RandomForestClassifier(n_jobs=-1, n_estimators=100, verbose=0)\n",
    "results2 = np.mean(cross_val_score(rndm_classifier2,X,y,cv=10))\n",
    "print(\"RandomForestClassifer with Accuracy: {}%\".format(results2*100.0))"
   ]
  },
  {
   "cell_type": "code",
   "execution_count": 25,
   "metadata": {},
   "outputs": [
    {
     "name": "stdout",
     "output_type": "stream",
     "text": [
      "Model: \"sequential_1\"\n",
      "_________________________________________________________________\n",
      "Layer (type)                 Output Shape              Param #   \n",
      "=================================================================\n",
      "dense_4 (Dense)              (None, 64)                641472    \n",
      "_________________________________________________________________\n",
      "batch_normalization_3 (Batch (None, 64)                256       \n",
      "_________________________________________________________________\n",
      "dense_5 (Dense)              (None, 32)                2080      \n",
      "_________________________________________________________________\n",
      "batch_normalization_4 (Batch (None, 32)                128       \n",
      "_________________________________________________________________\n",
      "dense_6 (Dense)              (None, 16)                528       \n",
      "_________________________________________________________________\n",
      "batch_normalization_5 (Batch (None, 16)                64        \n",
      "_________________________________________________________________\n",
      "dense_7 (Dense)              (None, 3)                 51        \n",
      "=================================================================\n",
      "Total params: 644,579\n",
      "Trainable params: 644,355\n",
      "Non-trainable params: 224\n",
      "_________________________________________________________________\n"
     ]
    }
   ],
   "source": [
    "# Since it's hard to dictate the performance based on cross val score from above, let's try one more model.\n",
    "# I will be using neural network and see how better I can differentiate two models.\n",
    "\n",
    "model = Sequential()\n",
    "model.add(InputLayer(input_shape=(10022,)))\n",
    "model.add(Dense(64, activation='relu'))\n",
    "model.add(BatchNormalization())\n",
    "model.add(Dense(32, activation='relu'))\n",
    "model.add(BatchNormalization())\n",
    "model.add(Dense(16, activation='relu'))\n",
    "model.add(BatchNormalization())\n",
    "model.add(Dense(3, activation='softmax'))\n",
    "\n",
    "opt = optimizers.Adam(lr=1e-5)\n",
    "# Compile model\n",
    "\n",
    "model.compile(loss='categorical_crossentropy',optimizer=opt,metrics=['accuracy'])\n",
    "\n",
    "# Print summary\n",
    "model.summary()"
   ]
  },
  {
   "cell_type": "code",
   "execution_count": 26,
   "metadata": {},
   "outputs": [
    {
     "name": "stdout",
     "output_type": "stream",
     "text": [
      "Train on 9248 samples, validate on 2313 samples\n",
      "Epoch 1/50\n",
      "9248/9248 [==============================] - 11s 1ms/sample - loss: 1.5613 - acc: 0.3790 - val_loss: 2.0851 - val_acc: 0.3403\n",
      "Epoch 2/50\n",
      "9248/9248 [==============================] - 10s 1ms/sample - loss: 1.3651 - acc: 0.4290 - val_loss: 1.7728 - val_acc: 0.3826\n",
      "Epoch 3/50\n",
      "9248/9248 [==============================] - 9s 1ms/sample - loss: 1.2397 - acc: 0.4700 - val_loss: 1.5574 - val_acc: 0.4414\n",
      "Epoch 4/50\n",
      "9248/9248 [==============================] - 9s 984us/sample - loss: 1.1336 - acc: 0.5148 - val_loss: 1.4838 - val_acc: 0.4557\n",
      "Epoch 5/50\n",
      "9248/9248 [==============================] - 9s 963us/sample - loss: 1.0690 - acc: 0.5360 - val_loss: 1.3795 - val_acc: 0.4859\n",
      "Epoch 6/50\n",
      "9248/9248 [==============================] - 9s 971us/sample - loss: 1.0054 - acc: 0.5636 - val_loss: 1.2679 - val_acc: 0.5115\n",
      "Epoch 7/50\n",
      "9248/9248 [==============================] - 9s 976us/sample - loss: 0.9709 - acc: 0.5797 - val_loss: 1.2363 - val_acc: 0.5210\n",
      "Epoch 8/50\n",
      "9248/9248 [==============================] - 9s 974us/sample - loss: 0.9157 - acc: 0.5999 - val_loss: 1.2015 - val_acc: 0.5309\n",
      "Epoch 9/50\n",
      "9248/9248 [==============================] - 9s 983us/sample - loss: 0.8907 - acc: 0.6133 - val_loss: 1.1467 - val_acc: 0.5577\n",
      "Epoch 10/50\n",
      "9248/9248 [==============================] - 9s 974us/sample - loss: 0.8580 - acc: 0.6320 - val_loss: 1.0838 - val_acc: 0.5741\n",
      "Epoch 11/50\n",
      "9248/9248 [==============================] - 9s 992us/sample - loss: 0.8380 - acc: 0.6488 - val_loss: 1.0564 - val_acc: 0.5780\n",
      "Epoch 12/50\n",
      "9248/9248 [==============================] - 9s 971us/sample - loss: 0.8202 - acc: 0.6491 - val_loss: 1.0213 - val_acc: 0.5945\n",
      "Epoch 13/50\n",
      "9248/9248 [==============================] - 9s 968us/sample - loss: 0.7901 - acc: 0.6660 - val_loss: 0.9868 - val_acc: 0.6122\n",
      "Epoch 14/50\n",
      "9248/9248 [==============================] - 9s 960us/sample - loss: 0.7800 - acc: 0.6672 - val_loss: 0.9910 - val_acc: 0.6070\n",
      "Epoch 15/50\n",
      "9248/9248 [==============================] - 9s 962us/sample - loss: 0.7677 - acc: 0.6750 - val_loss: 0.9759 - val_acc: 0.6126\n",
      "Epoch 16/50\n",
      "9248/9248 [==============================] - 9s 938us/sample - loss: 0.7498 - acc: 0.6844 - val_loss: 0.9380 - val_acc: 0.6256\n",
      "Epoch 17/50\n",
      "9248/9248 [==============================] - 9s 980us/sample - loss: 0.7207 - acc: 0.7019 - val_loss: 0.9097 - val_acc: 0.6433\n",
      "Epoch 18/50\n",
      "9248/9248 [==============================] - 11s 1ms/sample - loss: 0.7354 - acc: 0.6972 - val_loss: 0.9361 - val_acc: 0.6334\n",
      "Epoch 19/50\n",
      "9248/9248 [==============================] - 11s 1ms/sample - loss: 0.7111 - acc: 0.7066 - val_loss: 0.9055 - val_acc: 0.6468\n",
      "Epoch 20/50\n",
      "9248/9248 [==============================] - 10s 1ms/sample - loss: 0.7069 - acc: 0.7080 - val_loss: 0.8949 - val_acc: 0.6554\n",
      "Epoch 21/50\n",
      "9248/9248 [==============================] - 9s 954us/sample - loss: 0.6877 - acc: 0.7206 - val_loss: 0.8778 - val_acc: 0.6567\n",
      "Epoch 22/50\n",
      "9248/9248 [==============================] - 9s 964us/sample - loss: 0.6824 - acc: 0.7171 - val_loss: 0.8905 - val_acc: 0.6550\n",
      "Epoch 23/50\n",
      "9248/9248 [==============================] - 9s 933us/sample - loss: 0.6693 - acc: 0.7226 - val_loss: 0.8424 - val_acc: 0.6710\n",
      "Epoch 24/50\n",
      "9248/9248 [==============================] - 9s 935us/sample - loss: 0.6631 - acc: 0.7252 - val_loss: 0.8564 - val_acc: 0.6675\n",
      "Epoch 25/50\n",
      "9248/9248 [==============================] - 9s 944us/sample - loss: 0.6436 - acc: 0.7379 - val_loss: 0.8643 - val_acc: 0.6628\n",
      "Epoch 26/50\n",
      "9248/9248 [==============================] - 9s 943us/sample - loss: 0.6456 - acc: 0.7348 - val_loss: 0.8329 - val_acc: 0.6775\n",
      "Epoch 27/50\n",
      "9248/9248 [==============================] - 9s 967us/sample - loss: 0.6362 - acc: 0.7434 - val_loss: 0.8484 - val_acc: 0.6727\n",
      "Epoch 28/50\n",
      "9248/9248 [==============================] - 9s 954us/sample - loss: 0.6226 - acc: 0.7491 - val_loss: 0.8369 - val_acc: 0.6783\n",
      "Epoch 29/50\n",
      "9248/9248 [==============================] - 9s 954us/sample - loss: 0.6181 - acc: 0.7477 - val_loss: 0.8200 - val_acc: 0.6827\n",
      "Epoch 30/50\n",
      "9248/9248 [==============================] - 9s 1ms/sample - loss: 0.6094 - acc: 0.7518 - val_loss: 0.8311 - val_acc: 0.6822\n",
      "Epoch 31/50\n",
      "9248/9248 [==============================] - 9s 1ms/sample - loss: 0.5965 - acc: 0.7641 - val_loss: 0.8340 - val_acc: 0.6792\n",
      "Epoch 32/50\n",
      "9248/9248 [==============================] - 9s 1ms/sample - loss: 0.5875 - acc: 0.7620 - val_loss: 0.8174 - val_acc: 0.6844\n",
      "Epoch 33/50\n",
      "9248/9248 [==============================] - 9s 999us/sample - loss: 0.5804 - acc: 0.7671 - val_loss: 0.8405 - val_acc: 0.6822\n",
      "Epoch 34/50\n",
      "9248/9248 [==============================] - 9s 961us/sample - loss: 0.5848 - acc: 0.7651 - val_loss: 0.8280 - val_acc: 0.6870\n",
      "Epoch 35/50\n",
      "9248/9248 [==============================] - 9s 934us/sample - loss: 0.5652 - acc: 0.7758 - val_loss: 0.8136 - val_acc: 0.6935\n",
      "Epoch 36/50\n",
      "9248/9248 [==============================] - 9s 978us/sample - loss: 0.5582 - acc: 0.7820 - val_loss: 0.8097 - val_acc: 0.6935\n",
      "Epoch 37/50\n",
      "9248/9248 [==============================] - 9s 968us/sample - loss: 0.5496 - acc: 0.7862 - val_loss: 0.8053 - val_acc: 0.6952\n",
      "Epoch 38/50\n",
      "9248/9248 [==============================] - 9s 968us/sample - loss: 0.5538 - acc: 0.7765 - val_loss: 0.8217 - val_acc: 0.6948\n",
      "Epoch 39/50\n",
      "9248/9248 [==============================] - 9s 958us/sample - loss: 0.5354 - acc: 0.7893 - val_loss: 0.8228 - val_acc: 0.7026\n",
      "Epoch 40/50\n",
      "9248/9248 [==============================] - 9s 956us/sample - loss: 0.5402 - acc: 0.7883 - val_loss: 0.8052 - val_acc: 0.7038\n",
      "Epoch 41/50\n",
      "9248/9248 [==============================] - 9s 963us/sample - loss: 0.5202 - acc: 0.7994 - val_loss: 0.8335 - val_acc: 0.6952\n",
      "Epoch 42/50\n",
      "9248/9248 [==============================] - 9s 969us/sample - loss: 0.5179 - acc: 0.7977 - val_loss: 0.8259 - val_acc: 0.6991\n",
      "Epoch 43/50\n",
      "9248/9248 [==============================] - 9s 966us/sample - loss: 0.5077 - acc: 0.8008 - val_loss: 0.8096 - val_acc: 0.7051\n",
      "Epoch 44/50\n",
      "9248/9248 [==============================] - 9s 967us/sample - loss: 0.5077 - acc: 0.8062 - val_loss: 0.8000 - val_acc: 0.7069\n",
      "Epoch 45/50\n",
      "9248/9248 [==============================] - 8s 894us/sample - loss: 0.4921 - acc: 0.8103 - val_loss: 0.8067 - val_acc: 0.7064\n",
      "Epoch 46/50\n",
      "9248/9248 [==============================] - 8s 896us/sample - loss: 0.4927 - acc: 0.8122 - val_loss: 0.8206 - val_acc: 0.7043\n",
      "Epoch 47/50\n",
      "9248/9248 [==============================] - 10s 1ms/sample - loss: 0.4812 - acc: 0.8176 - val_loss: 0.8225 - val_acc: 0.7026\n",
      "Epoch 48/50\n",
      "9248/9248 [==============================] - 9s 1ms/sample - loss: 0.4710 - acc: 0.8235 - val_loss: 0.8225 - val_acc: 0.7047\n",
      "Epoch 49/50\n",
      "9248/9248 [==============================] - 9s 1ms/sample - loss: 0.4619 - acc: 0.8235 - val_loss: 0.8519 - val_acc: 0.6978\n",
      "Epoch 50/50\n",
      "9248/9248 [==============================] - 9s 974us/sample - loss: 0.4793 - acc: 0.8203 - val_loss: 0.8200 - val_acc: 0.7095\n"
     ]
    }
   ],
   "source": [
    "# Below params are chose very carefully. Creating validation split from train data, 80-20.\n",
    "hist = model.fit(X_train, y_train, epochs=50, validation_split=0.2,batch_size=4,verbose=True)"
   ]
  },
  {
   "cell_type": "code",
   "execution_count": 27,
   "metadata": {},
   "outputs": [
    {
     "data": {
      "text/plain": [
       "<matplotlib.legend.Legend at 0x7f9ad4613d50>"
      ]
     },
     "execution_count": 27,
     "metadata": {},
     "output_type": "execute_result"
    },
    {
     "data": {
      "image/png": "[encoded data removed]",
      "text/plain": [
       "<Figure size 1440x1080 with 1 Axes>"
      ]
     },
     "metadata": {},
     "output_type": "display_data"
    }
   ],
   "source": [
    "# Plotting for visuals\n",
    "df_hist = pd.DataFrame(hist.history)\n",
    "plt.plot(df_hist['loss'])\n",
    "plt.plot(df_hist['val_loss'])\n",
    "plt.legend(('Training Loss','Validation Loss'), loc=0)"
   ]
  },
  {
   "cell_type": "code",
   "execution_count": 28,
   "metadata": {},
   "outputs": [
    {
     "data": {
      "text/plain": [
       "{'Train Accuracy (Count Vectorizer)': 87.942,\n",
       " 'Test Accuracy (Count Vectorizer)': 70.564}"
      ]
     },
     "execution_count": 28,
     "metadata": {},
     "output_type": "execute_result"
    }
   ],
   "source": [
    "# Accuracies\n",
    "\n",
    "y_pred = model.predict(X_test)\n",
    "perf = {}\n",
    "result=model.evaluate(X_train,y_train, batch_size=4,verbose=False)\n",
    "perf['Train Accuracy (Count Vectorizer)']=round(result[1]*100,3)\n",
    "result=model.evaluate(X_test,y_test, batch_size=4,verbose=False)\n",
    "perf['Test Accuracy (Count Vectorizer)']=round(result[1]*100,3)\n",
    "\n",
    "perf"
   ]
  },
  {
   "cell_type": "markdown",
   "metadata": {},
   "source": [
    "### Observations:\n",
    "* From above computations, as we have seen the effect of CountVectorization and TF-IDF method on the text classification, we can see both has their merits and demerits.\n",
    "* I have tried to showcase both of the methods with two kind of model trainings. The models can be improved by tweaking the hyperparameters. \n",
    "* With the aboce computation, I managed to get accuracy of around **68%** using RandomForest and **90%** using the Dense Neural Network.\n",
    "* With RandomForest and DNN model training, I see TF-IDF as the better approach. This can be improved further. The text processing handled first and that leads to better performance in terms of the accuracy."
   ]
  },
  {
   "cell_type": "markdown",
   "metadata": {},
   "source": [
    "## 6. Summarize your understanding of the application of Various Pre-processing and Vectorization and performance of your model on this dataset. (8 Marks)\n",
    "\n",
    "* Any NLP project, needs the text that we ar supplying to the model to be cleaned. The \"cleaned\" text here has a great significance on the model accuracy. To explain the clean text, when we get the txt from the documents or from a website or from the external resources, there are some special characters or some punctuation which doesn't make sense to the training model and does not help with the prediction.\n",
    "* Here, in this project we have the web scrapped data. These tweets as flooded with some special characters and some punctuations. Since this is the web data, they are likely to have some URLs and also some HTML code in it. When we are training our models, this kind of information might mislead the prediction, in other words they can make our model perform bad. To resolve this, I have applied several preprocessing steps. First, the tweets are cleaned with the library called BeautifuSoup. This library would remove HTML content from the tweets. Then, the tweets are processed from the removal of the special characters and punctuations. This will remove the special characters like '@'. The tweets are then processed from removal of accented characters and removal of URLs. Once this is done, tokenizer is applied which will convert the words in the lower case and make all the tweets in the same cases. Lemmatization is used to convert the words to their respective meanings for better understanding. These would preserve the essence of the sentence.\n",
    "* Once above pre-processing steps are done, the vectorization methods like CountVectorizer and TF-IDFVectorizer is applied. Both Vectorizer are very different from each other. CountVectorizer use bag of words method. CountVectorizer doesn't remember the placement of the words or we can also say it doesn't preserve the meaning of the sentence. It is comparitively faster than other vectorizer but it's hard to predict because of the loss of context. On the other hand, TfidfVectorizer, it preserves the context of the sentence. \n",
    "* Performance of the model: Based on the above computation, I managed to achieve around 70% Test accuracy using the TF-IDF Vectorizer. We can see RandomForestClassifer performs better with TF-IDF Vectorizer. With the DNN, the CountVectorizer tends to overfit the mode. Because of time contraints, only two model are shown here but we can apply different classifiers and see what performs better. \n",
    "* Hence, for the given sentiment analysis, TF-IDF Venctorizer with DNN yields good results."
   ]
  },
  {
   "cell_type": "code",
   "execution_count": null,
   "metadata": {},
   "outputs": [],
   "source": []
  }
 ],
 "metadata": {
  "kernelspec": {
   "display_name": "Python 3",
   "language": "python",
   "name": "python3"
  },
  "language_info": {
   "codemirror_mode": {
    "name": "ipython",
    "version": 3
   },
   "file_extension": ".py",
   "mimetype": "text/x-python",
   "name": "python",
   "nbconvert_exporter": "python",
   "pygments_lexer": "ipython3",
   "version": "3.7.6"
  }
 },
 "nbformat": 4,
 "nbformat_minor": 4
}
